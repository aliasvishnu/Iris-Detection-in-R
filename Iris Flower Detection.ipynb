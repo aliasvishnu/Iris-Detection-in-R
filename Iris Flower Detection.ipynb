{
 "cells": [
  {
   "cell_type": "markdown",
   "metadata": {},
   "source": [
    "### First we load the dataset and perform basic data analysis"
   ]
  },
  {
   "cell_type": "code",
   "execution_count": 75,
   "metadata": {},
   "outputs": [
    {
     "name": "stdout",
     "output_type": "stream",
     "text": [
      "[1] \"setosa\"     \"versicolor\" \"virginica\" \n"
     ]
    }
   ],
   "source": [
    "data = iris\n",
    "dataX = data[, 1:ncol(data)-1]\n",
    "\n",
    "dataY = data[, ncol(data)]\n",
    "print(levels(dataY))\n",
    "dataY = as.integer(dataY)-1"
   ]
  },
  {
   "cell_type": "markdown",
   "metadata": {},
   "source": [
    "### We split the data into training, validation and testing datasets"
   ]
  },
  {
   "cell_type": "code",
   "execution_count": 76,
   "metadata": {},
   "outputs": [],
   "source": [
    "n_samples = nrow(data)\n",
    "n_perm = sample(n_samples, n_samples, replace = FALSE)"
   ]
  },
  {
   "cell_type": "code",
   "execution_count": 77,
   "metadata": {},
   "outputs": [],
   "source": [
    "train_ind = n_perm[1:(n_samples*0.6)]\n",
    "val_ind = n_perm[(n_samples*0.6):(n_samples*0.8)]\n",
    "test_ind = n_perm[(n_samples*0.8):n_samples]"
   ]
  },
  {
   "cell_type": "code",
   "execution_count": 89,
   "metadata": {},
   "outputs": [],
   "source": [
    "trainX = data[train_ind, ]\n",
    "trainY = dataY[train_ind]\n",
    "\n",
    "valX = data[val_ind, ]\n",
    "valY = dataY[val_ind]\n",
    "\n",
    "testX = data[test_ind, ]\n",
    "testY = dataY[test_ind]"
   ]
  },
  {
   "cell_type": "code",
   "execution_count": null,
   "metadata": {
    "collapsed": true
   },
   "outputs": [],
   "source": []
  }
 ],
 "metadata": {
  "kernelspec": {
   "display_name": "R",
   "language": "R",
   "name": "ir"
  },
  "language_info": {
   "codemirror_mode": "r",
   "file_extension": ".r",
   "mimetype": "text/x-r-source",
   "name": "R",
   "pygments_lexer": "r",
   "version": "3.4.2"
  }
 },
 "nbformat": 4,
 "nbformat_minor": 2
}
